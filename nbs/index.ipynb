{
 "cells": [
  {
   "cell_type": "markdown",
   "metadata": {},
   "source": [
    "# pydantic-yaml-parser\n",
    "\n",
    "> Generate human-readable error messages when loading yaml files into pydantic"
   ]
  },
  {
   "cell_type": "markdown",
   "metadata": {},
   "source": [
    "[![](https://github.com/hamelsmu/pydantic-yaml-parser/actions/workflows/test.yaml/badge.svg)](https://github.com/hamelsmu/pydantic-yaml-parser/actions/workflows/test.yaml)"
   ]
  },
  {
   "cell_type": "markdown",
   "metadata": {},
   "source": [
    "## Install"
   ]
  },
  {
   "cell_type": "markdown",
   "metadata": {},
   "source": [
    "```sh\n",
    "pip install pydantic_yaml_parser\n",
    "```"
   ]
  },
  {
   "cell_type": "markdown",
   "metadata": {},
   "source": [
    "## Background & Usage\n",
    "\n",
    "### 1. Loading YAML into Pydantic models"
   ]
  },
  {
   "cell_type": "markdown",
   "metadata": {},
   "source": [
    "To load YAML into a Pydantic model, you have to first convert the YAML string to a dict.  For example, given the below yaml file:"
   ]
  },
  {
   "cell_type": "code",
   "execution_count": null,
   "metadata": {},
   "outputs": [],
   "source": [
    "yaml_string=\"\"\"\n",
    "setting_1: Hello\n",
    "setting_2:\n",
    "    - kind: name\n",
    "      sublist:\n",
    "          - first\n",
    "          - second\n",
    "\"\"\""
   ]
  },
  {
   "cell_type": "markdown",
   "metadata": {},
   "source": [
    "You might define a Pydantic model to represent it like this:"
   ]
  },
  {
   "cell_type": "code",
   "execution_count": null,
   "metadata": {},
   "outputs": [],
   "source": [
    "from pydantic import BaseModel\n",
    "from typing import List\n",
    "\n",
    "class Setting2(BaseModel):\n",
    "    kind: str\n",
    "    sublist: List\n",
    "\n",
    "class Test(BaseModel):\n",
    "    setting_1: str\n",
    "    setting_2: List[Setting2]"
   ]
  },
  {
   "cell_type": "markdown",
   "metadata": {},
   "source": [
    "You can load the yaml file into a dict, and into the Pydantic model like so using [pyyaml](https://pyyaml.org/wiki/PyYAMLDocumentation):"
   ]
  },
  {
   "cell_type": "code",
   "execution_count": null,
   "metadata": {},
   "outputs": [
    {
     "data": {
      "text/plain": [
       "Test(setting_1='Hello', setting_2=[Setting2(kind='name', sublist=['first', 'second'])])"
      ]
     },
     "execution_count": null,
     "metadata": {},
     "output_type": "execute_result"
    }
   ],
   "source": [
    "import yaml\n",
    "yml_dict = yaml.safe_load(yaml_string)\n",
    "\n",
    "# use `parse_obj` to load a dict\n",
    "Test.parse_obj(yml_dict)"
   ]
  },
  {
   "cell_type": "markdown",
   "metadata": {},
   "source": [
    "### 2. The Pydantic validation error message"
   ]
  },
  {
   "cell_type": "markdown",
   "metadata": {},
   "source": [
    "However, let's say there is an error in your yaml file such that you accidentally set `sublist` to `false`, instead of setting `sublist` to `list` type, you will get an error message that looks like this:"
   ]
  },
  {
   "cell_type": "code",
   "execution_count": null,
   "metadata": {},
   "outputs": [],
   "source": [
    "yaml_string=\"\"\"\n",
    "setting_1: ok\n",
    "setting_2:\n",
    "    - kind: name\n",
    "      sublist: false\n",
    "\"\"\"\n",
    "yaml_dict_error = yaml.safe_load(yaml_string)"
   ]
  },
  {
   "cell_type": "code",
   "execution_count": null,
   "metadata": {},
   "outputs": [
    {
     "ename": "ValidationError",
     "evalue": "1 validation error for Test\nsetting_2 -> 0 -> sublist\n  value is not a valid list (type=type_error.list)",
     "output_type": "error",
     "traceback": [
      "\u001b[0;31m---------------------------------------------------------------------------\u001b[0m",
      "\u001b[0;31mValidationError\u001b[0m                           Traceback (most recent call last)",
      "Cell \u001b[0;32mIn[43], line 2\u001b[0m\n\u001b[1;32m      1\u001b[0m \u001b[38;5;66;03m#|eval: false\u001b[39;00m\n\u001b[0;32m----> 2\u001b[0m \u001b[43mTest\u001b[49m\u001b[38;5;241;43m.\u001b[39;49m\u001b[43mparse_obj\u001b[49m\u001b[43m(\u001b[49m\u001b[43myaml_dict_error\u001b[49m\u001b[43m)\u001b[49m\n",
      "File \u001b[0;32m/opt/anaconda3/lib/python3.9/site-packages/pydantic/main.py:526\u001b[0m, in \u001b[0;36mpydantic.main.BaseModel.parse_obj\u001b[0;34m()\u001b[0m\n",
      "File \u001b[0;32m/opt/anaconda3/lib/python3.9/site-packages/pydantic/main.py:341\u001b[0m, in \u001b[0;36mpydantic.main.BaseModel.__init__\u001b[0;34m()\u001b[0m\n",
      "\u001b[0;31mValidationError\u001b[0m: 1 validation error for Test\nsetting_2 -> 0 -> sublist\n  value is not a valid list (type=type_error.list)"
     ]
    }
   ],
   "source": [
    "#|eval: false\n",
    "Test.parse_obj(yaml_dict_error)"
   ]
  },
  {
   "cell_type": "markdown",
   "metadata": {},
   "source": [
    "This error message is a bit confusing, especially for those with no prior experience with pydantic! "
   ]
  },
  {
   "cell_type": "markdown",
   "metadata": {},
   "source": [
    "### 3. Human readable error messages with `pydantic_yaml_parser`\n",
    "\n",
    "When you use `pydantic_yaml_parser` you get an error message that is much clearer:"
   ]
  },
  {
   "cell_type": "code",
   "execution_count": null,
   "metadata": {},
   "outputs": [],
   "source": [
    "from pydantic_yaml_parser.yaml import YamlModel\n",
    "\n",
    "class Test(YamlModel):\n",
    "    setting_1: str\n",
    "    setting_2: List[Setting2]"
   ]
  },
  {
   "cell_type": "code",
   "execution_count": null,
   "metadata": {},
   "outputs": [
    {
     "ename": "ValueError",
     "evalue": "Configuration error(s) for YAML:\n - value is not a valid list: `sublist` for element 0 in the list for `setting_2`",
     "output_type": "error",
     "traceback": [
      "\u001b[0;31m---------------------------------------------------------------------------\u001b[0m",
      "\u001b[0;31mValueError\u001b[0m                                Traceback (most recent call last)",
      "Cell \u001b[0;32mIn[47], line 2\u001b[0m\n\u001b[1;32m      1\u001b[0m \u001b[38;5;66;03m#|eval: false\u001b[39;00m\n\u001b[0;32m----> 2\u001b[0m \u001b[43mTest\u001b[49m\u001b[38;5;241;43m.\u001b[39;49m\u001b[43mfrom_dict\u001b[49m\u001b[43m(\u001b[49m\u001b[43myaml_dict_error\u001b[49m\u001b[43m)\u001b[49m\n",
      "File \u001b[0;32m~/github/pydantic-yaml-parser/pydantic_yaml_parser/yaml.py:54\u001b[0m, in \u001b[0;36mYamlModel.from_dict\u001b[0;34m(cls, ymldict, f)\u001b[0m\n\u001b[1;32m     52\u001b[0m     msg \u001b[38;5;241m=\u001b[39m \u001b[38;5;124m'\u001b[39m\u001b[38;5;124mConfiguration error(s) for YAML:\u001b[39m\u001b[38;5;130;01m\\n\u001b[39;00m\u001b[38;5;124m - \u001b[39m\u001b[38;5;124m'\u001b[39m\n\u001b[1;32m     53\u001b[0m     msg \u001b[38;5;241m+\u001b[39m\u001b[38;5;241m=\u001b[39m \u001b[38;5;124m'\u001b[39m\u001b[38;5;130;01m\\n\u001b[39;00m\u001b[38;5;124m - \u001b[39m\u001b[38;5;124m'\u001b[39m\u001b[38;5;241m.\u001b[39mjoin(f(err) \u001b[38;5;28;01mfor\u001b[39;00m err \u001b[38;5;129;01min\u001b[39;00m e\u001b[38;5;241m.\u001b[39merrors())           \n\u001b[0;32m---> 54\u001b[0m     \u001b[38;5;28;01mraise\u001b[39;00m \u001b[38;5;167;01mValueError\u001b[39;00m(msg) \u001b[38;5;28;01mfrom\u001b[39;00m \u001b[38;5;28mNone\u001b[39m\n\u001b[1;32m     55\u001b[0m \u001b[38;5;28;01melse\u001b[39;00m: \n\u001b[1;32m     56\u001b[0m     \u001b[38;5;28;01mraise\u001b[39;00m e\n",
      "\u001b[0;31mValueError\u001b[0m: Configuration error(s) for YAML:\n - value is not a valid list: `sublist` for element 0 in the list for `setting_2`"
     ]
    }
   ],
   "source": [
    "#|eval: false\n",
    "Test.from_dict(yaml_dict_error)"
   ]
  },
  {
   "cell_type": "markdown",
   "metadata": {},
   "source": [
    "## Further Reading\n",
    "\n",
    "For more examples of error validation see [these docs](00_yaml.ipynb#error-validation)."
   ]
  }
 ],
 "metadata": {
  "kernelspec": {
   "display_name": "python3",
   "language": "python",
   "name": "python3"
  }
 },
 "nbformat": 4,
 "nbformat_minor": 4
}
