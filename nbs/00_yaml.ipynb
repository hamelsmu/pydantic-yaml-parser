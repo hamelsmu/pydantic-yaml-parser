{
 "cells": [
  {
   "cell_type": "markdown",
   "metadata": {},
   "source": [
    "# yaml\n",
    "\n",
    "> Load YAML strings into Pydantic models with nicer validation errors"
   ]
  },
  {
   "cell_type": "markdown",
   "metadata": {},
   "source": [
    "[![](https://github.com/hamelsmu/pydantic-yaml-parser/actions/workflows/test.yaml/badge.svg)](https://github.com/hamelsmu/pydantic-yaml-parser/actions/workflows/test.yaml)"
   ]
  },
  {
   "cell_type": "code",
   "execution_count": null,
   "metadata": {},
   "outputs": [],
   "source": [
    "#| default_exp yaml"
   ]
  },
  {
   "cell_type": "code",
   "execution_count": null,
   "metadata": {},
   "outputs": [],
   "source": [
    "#| export\n",
    "import sys\n",
    "from pydantic import BaseModel, ValidationError\n",
    "import yaml\n",
    "from typing import List, Dict\n",
    "from fastcore.test import test_fail"
   ]
  },
  {
   "cell_type": "code",
   "execution_count": null,
   "metadata": {},
   "outputs": [],
   "source": [
    "yaml_string =\"\"\"\n",
    "quartodoc:\n",
    "  style: pkgdown\n",
    "  dir: api\n",
    "  package: quartodoc\n",
    "  sidebar: \"api/_sidebar.yml\"\n",
    "  sections:\n",
    "    - title: Preperation Functions\n",
    "      desc: |\n",
    "        These functions fetch and analyze python objects, including parsing docstrings.\n",
    "        They prepare a basic representation of your doc site that can be rendered and built.\n",
    "      contents:\n",
    "        - Auto\n",
    "        - blueprint\n",
    "        - collect\n",
    "        - get_object\n",
    "        - preview\n",
    "\"\"\""
   ]
  },
  {
   "cell_type": "code",
   "execution_count": null,
   "metadata": {},
   "outputs": [],
   "source": [
    "#|export\n",
    "def fmt(err:dict):\n",
    "    \"format error messages from pydantic.\"\n",
    "    msg = \"\"\n",
    "    if err['type'] == 'value_error.missing':\n",
    "        msg += 'Missing field'\n",
    "    else:\n",
    "        msg += err['msg'] + ':'\n",
    "        \n",
    "    if 'loc' in err:\n",
    "        if len(err['loc']) == 1:\n",
    "            msg += f\" from root level: `{err['loc'][0]}`\"\n",
    "        elif len(err['loc']) == 3:\n",
    "            msg += f\" `{err['loc'][2]}` for element {err['loc'][1]} in the list for `{err['loc'][0]}`\"\n",
    "                \n",
    "    else:\n",
    "        msg += str(err['msg'])\n",
    "    return msg"
   ]
  },
  {
   "cell_type": "code",
   "execution_count": null,
   "metadata": {},
   "outputs": [],
   "source": [
    "#|export\n",
    "def yaml2d(yml:str) -> dict:\n",
    "    \"Turn a yaml string into a dict\"\n",
    "    return yaml.safe_load(yml)"
   ]
  },
  {
   "cell_type": "code",
   "execution_count": null,
   "metadata": {},
   "outputs": [],
   "source": [
    "#|export\n",
    "class Section(BaseModel):\n",
    "    title: str\n",
    "    desc: str\n",
    "    contents: List[str]\n",
    "\n",
    "\n",
    "class YamlModel(BaseModel):\n",
    "    @classmethod\n",
    "    def from_dict(cls, ymldict:dict, f:callable=fmt):\n",
    "        sys.tracebacklimit = 0\n",
    "        try:\n",
    "            return cls.parse_obj(ymldict)\n",
    "        except ValidationError as e:\n",
    "            if f:\n",
    "                msg = 'Configuration error(s) for YAML:\\n - '\n",
    "                msg += '\\n - '.join(f(err) for err in e.errors())           \n",
    "                raise ValueError(msg) from None\n",
    "            else: \n",
    "                raise e\n",
    "\n",
    "class QuartoDoc(YamlModel):\n",
    "    style: str\n",
    "    dir: str\n",
    "    package: str\n",
    "    sidebar: str\n",
    "    sections: List[Section]"
   ]
  },
  {
   "cell_type": "markdown",
   "metadata": {},
   "source": [
    "`QuartoDoc` has a `from_dict` method so that you can load a dict that corresponds to a yaml file into a Pydantic data model:"
   ]
  },
  {
   "cell_type": "code",
   "execution_count": null,
   "metadata": {},
   "outputs": [
    {
     "data": {
      "text/plain": [
       "QuartoDoc(style='pkgdown', dir='api', package='quartodoc', sidebar='api/_sidebar.yml', sections=[Section(title='Preperation Functions', desc='These functions fetch and analyze python objects, including parsing docstrings.\\nThey prepare a basic representation of your doc site that can be rendered and built.\\n', contents=['Auto', 'blueprint', 'collect', 'get_object', 'preview'])])"
      ]
     },
     "execution_count": null,
     "metadata": {},
     "output_type": "execute_result"
    }
   ],
   "source": [
    "yaml_dict = yaml2d(yaml_string)['quartodoc']\n",
    "QuartoDoc.from_dict(yaml_dict)"
   ]
  },
  {
   "cell_type": "markdown",
   "metadata": {},
   "source": [
    "## Error Validation\n",
    "\n",
    "### Missing Section\n",
    "\n",
    "In the below yaml, there are two things missing: \n",
    "\n",
    "\n",
    "- The `contents` field is missing from `sections`.\n",
    "- The root of the quartodoc config is missing a `dir` field."
   ]
  },
  {
   "cell_type": "code",
   "execution_count": null,
   "metadata": {},
   "outputs": [],
   "source": [
    "invalid_section = \"\"\"\n",
    "quartodoc:\n",
    "  style: pkgdown\n",
    "  package: quartodoc\n",
    "  sidebar: \"api/_sidebar.yml\"\n",
    "  sections:\n",
    "    - title: Preperation Functions\n",
    "      desc: |\n",
    "        These functions fetch and analyze python objects, including parsing docstrings.\n",
    "        They prepare a basic representation of your doc site that can be rendered and built.\n",
    "\"\"\"\n",
    "\n",
    "yaml_dict = yaml2d(invalid_section)['quartodoc']"
   ]
  },
  {
   "cell_type": "markdown",
   "metadata": {},
   "source": [
    "If we try to load the yaml in `invalid_section` we get the following error message:"
   ]
  },
  {
   "cell_type": "code",
   "execution_count": null,
   "metadata": {},
   "outputs": [
    {
     "ename": "ValueError",
     "evalue": "Configuration error(s) for YAML:\n - Missing field from root level: `dir`\n - Missing field `contents` for element 0 in the list for `sections`",
     "output_type": "error",
     "traceback": [
      "\u001b[0;31m---------------------------------------------------------------------------\u001b[0m",
      "\u001b[0;31mValueError\u001b[0m                                Traceback (most recent call last)",
      "Cell \u001b[0;32mIn[18], line 2\u001b[0m\n\u001b[1;32m      1\u001b[0m \u001b[38;5;66;03m#|eval: false\u001b[39;00m\n\u001b[0;32m----> 2\u001b[0m \u001b[43mQuartoDoc\u001b[49m\u001b[38;5;241;43m.\u001b[39;49m\u001b[43mfrom_dict\u001b[49m\u001b[43m(\u001b[49m\u001b[43myaml_dict\u001b[49m\u001b[43m)\u001b[49m\n",
      "Cell \u001b[0;32mIn[6], line 18\u001b[0m, in \u001b[0;36mYamlModel.from_dict\u001b[0;34m(cls, ymldict, f)\u001b[0m\n\u001b[1;32m     16\u001b[0m     msg \u001b[38;5;241m=\u001b[39m \u001b[38;5;124m'\u001b[39m\u001b[38;5;124mConfiguration error(s) for YAML:\u001b[39m\u001b[38;5;130;01m\\n\u001b[39;00m\u001b[38;5;124m - \u001b[39m\u001b[38;5;124m'\u001b[39m\n\u001b[1;32m     17\u001b[0m     msg \u001b[38;5;241m+\u001b[39m\u001b[38;5;241m=\u001b[39m \u001b[38;5;124m'\u001b[39m\u001b[38;5;130;01m\\n\u001b[39;00m\u001b[38;5;124m - \u001b[39m\u001b[38;5;124m'\u001b[39m\u001b[38;5;241m.\u001b[39mjoin(f(err) \u001b[38;5;28;01mfor\u001b[39;00m err \u001b[38;5;129;01min\u001b[39;00m e\u001b[38;5;241m.\u001b[39merrors())           \n\u001b[0;32m---> 18\u001b[0m     \u001b[38;5;28;01mraise\u001b[39;00m \u001b[38;5;167;01mValueError\u001b[39;00m(msg) \u001b[38;5;28;01mfrom\u001b[39;00m \u001b[38;5;28mNone\u001b[39m\n\u001b[1;32m     19\u001b[0m \u001b[38;5;28;01melse\u001b[39;00m: \n\u001b[1;32m     20\u001b[0m     \u001b[38;5;28;01mraise\u001b[39;00m e\n",
      "\u001b[0;31mValueError\u001b[0m: Configuration error(s) for YAML:\n - Missing field from root level: `dir`\n - Missing field `contents` for element 0 in the list for `sections`"
     ]
    }
   ],
   "source": [
    "#|eval: false\n",
    "QuartoDoc.from_dict(yaml_dict)"
   ]
  },
  {
   "cell_type": "code",
   "execution_count": null,
   "metadata": {},
   "outputs": [],
   "source": [
    "#|hide\n",
    "test_fail(QuartoDoc.from_dict, args=(yaml_dict,), \n",
    "          contains=\"Missing field from root level: `dir`\")\n",
    "\n",
    "test_fail(QuartoDoc.from_dict, args=(yaml_dict,), \n",
    "          contains=\"Missing field `contents` for element 0 in the list for `sections`\")"
   ]
  },
  {
   "cell_type": "markdown",
   "metadata": {},
   "source": [
    "### Invalid Type\n",
    "\n",
    "In the below yaml we will erroneously set the `contents` field to `false`, when it is supposed to be a list:"
   ]
  },
  {
   "cell_type": "code",
   "execution_count": null,
   "metadata": {},
   "outputs": [],
   "source": [
    "yaml_string =\"\"\"\n",
    "quartodoc:\n",
    "  style: pkgdown\n",
    "  dir: api\n",
    "  package: quartodoc\n",
    "  sidebar: \"api/_sidebar.yml\"\n",
    "  sections:\n",
    "    - title: Preperation Functions\n",
    "      desc: |\n",
    "        These functions fetch and analyze python objects, including parsing docstrings.\n",
    "        They prepare a basic representation of your doc site that can be rendered and built.\n",
    "      contents: false\n",
    "\"\"\"\n",
    "\n",
    "yaml_dict = yaml2d(yaml_string)['quartodoc']"
   ]
  },
  {
   "cell_type": "markdown",
   "metadata": {},
   "source": [
    "We get the following human readable error message:"
   ]
  },
  {
   "cell_type": "code",
   "execution_count": null,
   "metadata": {},
   "outputs": [
    {
     "ename": "ValueError",
     "evalue": "Configuration error(s) for YAML:\n - value is not a valid list: `contents` for element 0 in the list for `sections`",
     "output_type": "error",
     "traceback": [
      "\u001b[0;31m---------------------------------------------------------------------------\u001b[0m",
      "\u001b[0;31mValueError\u001b[0m                                Traceback (most recent call last)",
      "Cell \u001b[0;32mIn[23], line 2\u001b[0m\n\u001b[1;32m      1\u001b[0m \u001b[38;5;66;03m#|eval: false\u001b[39;00m\n\u001b[0;32m----> 2\u001b[0m yml \u001b[38;5;241m=\u001b[39m \u001b[43mQuartoDoc\u001b[49m\u001b[38;5;241;43m.\u001b[39;49m\u001b[43mfrom_dict\u001b[49m\u001b[43m(\u001b[49m\u001b[43myaml_dict\u001b[49m\u001b[43m)\u001b[49m\n",
      "Cell \u001b[0;32mIn[6], line 18\u001b[0m, in \u001b[0;36mYamlModel.from_dict\u001b[0;34m(cls, ymldict, f)\u001b[0m\n\u001b[1;32m     16\u001b[0m     msg \u001b[38;5;241m=\u001b[39m \u001b[38;5;124m'\u001b[39m\u001b[38;5;124mConfiguration error(s) for YAML:\u001b[39m\u001b[38;5;130;01m\\n\u001b[39;00m\u001b[38;5;124m - \u001b[39m\u001b[38;5;124m'\u001b[39m\n\u001b[1;32m     17\u001b[0m     msg \u001b[38;5;241m+\u001b[39m\u001b[38;5;241m=\u001b[39m \u001b[38;5;124m'\u001b[39m\u001b[38;5;130;01m\\n\u001b[39;00m\u001b[38;5;124m - \u001b[39m\u001b[38;5;124m'\u001b[39m\u001b[38;5;241m.\u001b[39mjoin(f(err) \u001b[38;5;28;01mfor\u001b[39;00m err \u001b[38;5;129;01min\u001b[39;00m e\u001b[38;5;241m.\u001b[39merrors())           \n\u001b[0;32m---> 18\u001b[0m     \u001b[38;5;28;01mraise\u001b[39;00m \u001b[38;5;167;01mValueError\u001b[39;00m(msg) \u001b[38;5;28;01mfrom\u001b[39;00m \u001b[38;5;28mNone\u001b[39m\n\u001b[1;32m     19\u001b[0m \u001b[38;5;28;01melse\u001b[39;00m: \n\u001b[1;32m     20\u001b[0m     \u001b[38;5;28;01mraise\u001b[39;00m e\n",
      "\u001b[0;31mValueError\u001b[0m: Configuration error(s) for YAML:\n - value is not a valid list: `contents` for element 0 in the list for `sections`"
     ]
    }
   ],
   "source": [
    "#|eval: false\n",
    "yml = QuartoDoc.from_dict(yaml_dict)"
   ]
  },
  {
   "cell_type": "code",
   "execution_count": null,
   "metadata": {},
   "outputs": [],
   "source": [
    "#|hide\n",
    "test_fail(QuartoDoc.from_dict, args=(yaml_dict,), \n",
    "          contains=\"- value is not a valid list: `contents` for element 0 in the list for `sections`\")"
   ]
  },
  {
   "cell_type": "markdown",
   "metadata": {},
   "source": [
    "In the below yaml we errenously set `dir` to a list when it should be a `str`:"
   ]
  },
  {
   "cell_type": "code",
   "execution_count": null,
   "metadata": {},
   "outputs": [],
   "source": [
    "yaml_string =\"\"\"\n",
    "quartodoc:\n",
    "  style: pkgdown\n",
    "  dir:\n",
    "      - folder1\n",
    "      - folder2\n",
    "  package: quartodoc\n",
    "  sidebar: \"api/_sidebar.yml\"\n",
    "  sections:\n",
    "    - title: Preperation Functions\n",
    "      desc: |\n",
    "        These functions fetch and analyze python objects, including parsing docstrings.\n",
    "        They prepare a basic representation of your doc site that can be rendered and built.\n",
    "      contents:\n",
    "          - item 1\n",
    "          - item 2\n",
    "\"\"\"\n",
    "\n",
    "yaml_dict = yaml2d(yaml_string)['quartodoc']"
   ]
  },
  {
   "cell_type": "code",
   "execution_count": null,
   "metadata": {},
   "outputs": [
    {
     "ename": "ValueError",
     "evalue": "Configuration error(s) for YAML:\n - str type expected: from root level: `dir`",
     "output_type": "error",
     "traceback": [
      "\u001b[0;31m---------------------------------------------------------------------------\u001b[0m",
      "\u001b[0;31mValueError\u001b[0m                                Traceback (most recent call last)",
      "Cell \u001b[0;32mIn[28], line 2\u001b[0m\n\u001b[1;32m      1\u001b[0m \u001b[38;5;66;03m#|eval: false\u001b[39;00m\n\u001b[0;32m----> 2\u001b[0m yml \u001b[38;5;241m=\u001b[39m \u001b[43mQuartoDoc\u001b[49m\u001b[38;5;241;43m.\u001b[39;49m\u001b[43mfrom_dict\u001b[49m\u001b[43m(\u001b[49m\u001b[43myaml_dict\u001b[49m\u001b[43m)\u001b[49m\n",
      "Cell \u001b[0;32mIn[6], line 18\u001b[0m, in \u001b[0;36mYamlModel.from_dict\u001b[0;34m(cls, ymldict, f)\u001b[0m\n\u001b[1;32m     16\u001b[0m     msg \u001b[38;5;241m=\u001b[39m \u001b[38;5;124m'\u001b[39m\u001b[38;5;124mConfiguration error(s) for YAML:\u001b[39m\u001b[38;5;130;01m\\n\u001b[39;00m\u001b[38;5;124m - \u001b[39m\u001b[38;5;124m'\u001b[39m\n\u001b[1;32m     17\u001b[0m     msg \u001b[38;5;241m+\u001b[39m\u001b[38;5;241m=\u001b[39m \u001b[38;5;124m'\u001b[39m\u001b[38;5;130;01m\\n\u001b[39;00m\u001b[38;5;124m - \u001b[39m\u001b[38;5;124m'\u001b[39m\u001b[38;5;241m.\u001b[39mjoin(f(err) \u001b[38;5;28;01mfor\u001b[39;00m err \u001b[38;5;129;01min\u001b[39;00m e\u001b[38;5;241m.\u001b[39merrors())           \n\u001b[0;32m---> 18\u001b[0m     \u001b[38;5;28;01mraise\u001b[39;00m \u001b[38;5;167;01mValueError\u001b[39;00m(msg) \u001b[38;5;28;01mfrom\u001b[39;00m \u001b[38;5;28mNone\u001b[39m\n\u001b[1;32m     19\u001b[0m \u001b[38;5;28;01melse\u001b[39;00m: \n\u001b[1;32m     20\u001b[0m     \u001b[38;5;28;01mraise\u001b[39;00m e\n",
      "\u001b[0;31mValueError\u001b[0m: Configuration error(s) for YAML:\n - str type expected: from root level: `dir`"
     ]
    }
   ],
   "source": [
    "#|eval: false\n",
    "yml = QuartoDoc.from_dict(yaml_dict)"
   ]
  },
  {
   "cell_type": "code",
   "execution_count": null,
   "metadata": {},
   "outputs": [],
   "source": [
    "#|hide\n",
    "test_fail(QuartoDoc.from_dict, args=(yaml_dict,), \n",
    "          contains=\"- str type expected: from root level: `dir`\")"
   ]
  },
  {
   "cell_type": "code",
   "execution_count": null,
   "metadata": {},
   "outputs": [],
   "source": []
  }
 ],
 "metadata": {
  "kernelspec": {
   "display_name": "python3",
   "language": "python",
   "name": "python3"
  }
 },
 "nbformat": 4,
 "nbformat_minor": 4
}
